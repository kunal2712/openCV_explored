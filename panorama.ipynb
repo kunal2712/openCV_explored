{
 "cells": [
  {
   "cell_type": "code",
   "execution_count": 1,
   "metadata": {},
   "outputs": [],
   "source": [
    "import os\n",
    "import cv2\n",
    "import math\n",
    "import glob\n",
    "import numpy as np\n",
    "import matplotlib.pyplot as plt"
   ]
  },
  {
   "cell_type": "markdown",
   "metadata": {},
   "source": [
    "Steps for Creating Panoramas\n",
    "\n",
    "* Find keypoints in all images\n",
    "* Find pairwise correspondences\n",
    "* Estimate pairwise Homographies\n",
    "* Refine Homographies \n",
    "* Stitch with Blending"
   ]
  },
  {
   "cell_type": "code",
   "execution_count": 4,
   "metadata": {},
   "outputs": [
    {
     "name": "stdout",
     "output_type": "stream",
     "text": [
      "0\n"
     ]
    }
   ],
   "source": [
    "# Read Images\n",
    "\n",
    "imagefiles = glob.glob(f\"land{os.sep}*\")\n",
    "imagefiles.sort()\n",
    "\n",
    "\n",
    "images = []\n",
    "for filename in imagefiles:\n",
    "    img = cv2.imread(filename)\n",
    "    img = cv2.cvtColor(img, cv2.COLOR_BGR2RGB)\n",
    "    images.append(img)\n",
    "\n",
    "num_images = len(images)\n",
    "\n",
    "print(num_images)"
   ]
  },
  {
   "cell_type": "code",
   "execution_count": 7,
   "metadata": {},
   "outputs": [
    {
     "data": {
      "text/plain": [
       "<Figure size 2160x720 with 0 Axes>"
      ]
     },
     "metadata": {},
     "output_type": "display_data"
    }
   ],
   "source": [
    "# Display Images\n",
    "plt.figure(figsize=[30, 10])\n",
    "num_cols = 3\n",
    "num_rows = math.ceil(num_images / num_cols)\n",
    "for i in range(0, num_images):\n",
    "    plt.subplot(num_rows, num_cols, i + 1)\n",
    "    plt.axis(\"off\")\n",
    "    plt.imshow(images[i])"
   ]
  },
  {
   "cell_type": "code",
   "execution_count": null,
   "metadata": {},
   "outputs": [],
   "source": [
    "# Stitch Images\n",
    "stitcher = cv2.Stitcher_create()\n",
    "status, result = stitcher.stitch(images)\n",
    "\n",
    "if status == 0:\n",
    "    plt.figure(figsize=[30, 10])\n",
    "    plt.imshow(result)"
   ]
  }
 ],
 "metadata": {
  "kernelspec": {
   "display_name": "Python 3",
   "language": "python",
   "name": "python3"
  },
  "language_info": {
   "codemirror_mode": {
    "name": "ipython",
    "version": 3
   },
   "file_extension": ".py",
   "mimetype": "text/x-python",
   "name": "python",
   "nbconvert_exporter": "python",
   "pygments_lexer": "ipython3",
   "version": "3.10.0"
  },
  "orig_nbformat": 4
 },
 "nbformat": 4,
 "nbformat_minor": 2
}
